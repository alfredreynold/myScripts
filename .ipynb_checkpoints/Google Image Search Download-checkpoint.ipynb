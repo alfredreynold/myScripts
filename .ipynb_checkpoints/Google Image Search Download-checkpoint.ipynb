{
 "cells": [
  {
   "cell_type": "code",
   "execution_count": null,
   "metadata": {
    "collapsed": false
   },
   "outputs": [],
   "source": [
    "import json\n",
    "import os\n",
    "import time\n",
    "import requests\n",
    "from PIL import Image\n",
    "from StringIO import StringIO\n",
    "from requests.exceptions import ConnectionError\n",
    "\n",
    "def go(query, path):\n",
    "  \"\"\"Download full size images from Google image search.\n",
    "  Don't print or republish images without permission.\n",
    "  I used this to train a learning algorithm.\n",
    "  \"\"\"\n",
    "  BASE_URL = 'https://ajax.googleapis.com/ajax/services/search/images?'\\\n",
    "             'v=1.0&q=' + query + '&start=%d'\n",
    "\n",
    "  BASE_PATH = os.path.join(path, query)\n",
    "\n",
    "  if not os.path.exists(BASE_PATH):\n",
    "    os.makedirs(BASE_PATH)\n",
    "\n",
    "  start = 0 # Google's start query string parameter for pagination.\n",
    "  while start < 60: # Google will only return a max of 56 results.\n",
    "    r = requests.get(BASE_URL % start)\n",
    "    for image_info in json.loads(r.text)['responseData']['results']:\n",
    "      url = image_info['unescapedUrl']\n",
    "      try:\n",
    "        image_r = requests.get(url)\n",
    "      except ConnectionError, e:\n",
    "        print 'could not download %s' % url\n",
    "        continue\n",
    "\n",
    "      # Remove file-system path characters from name.\n",
    "      title = image_info['titleNoFormatting'].replace('/', '').replace('\\\\', '')\n",
    "\n",
    "      file = open(os.path.join(BASE_PATH, '%s.jpg') % title, 'w')\n",
    "      try:\n",
    "        Image.open(StringIO(image_r.content)).save(file, 'JPEG')\n",
    "      except IOError, e:\n",
    "        # Throw away some gifs...blegh.\n",
    "        print 'could not save %s' % url\n",
    "        continue\n",
    "      finally:\n",
    "        file.close()\n",
    "\n",
    "    print start\n",
    "    start += 4 # 4 images per page.\n",
    "\n",
    "    # Be nice to Google and they'll be nice back :)\n",
    "    time.sleep(1.5)\n",
    "\n",
    "# Example use\n",
    "go('landscape', 'myDirectory')"
   ]
  }
 ],
 "metadata": {
  "kernelspec": {
   "display_name": "Python 2",
   "language": "python",
   "name": "python2"
  },
  "language_info": {
   "codemirror_mode": {
    "name": "ipython",
    "version": 2
   },
   "file_extension": ".py",
   "mimetype": "text/x-python",
   "name": "python",
   "nbconvert_exporter": "python",
   "pygments_lexer": "ipython2",
   "version": "2.7.10"
  }
 },
 "nbformat": 4,
 "nbformat_minor": 0
}
