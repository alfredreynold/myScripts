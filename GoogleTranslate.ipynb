{
 "metadata": {
  "name": "",
  "signature": "sha256:0b8ce0719c0e756348082fd71d919a2c9fba284284f4870bde874db444a24cde"
 },
 "nbformat": 3,
 "nbformat_minor": 0,
 "worksheets": [
  {
   "cells": [
    {
     "cell_type": "code",
     "collapsed": false,
     "input": [
      "import sqlite3,xlrd,xlwt\n",
      "import goslate"
     ],
     "language": "python",
     "metadata": {},
     "outputs": [],
     "prompt_number": 1
    },
    {
     "cell_type": "code",
     "collapsed": false,
     "input": [],
     "language": "python",
     "metadata": {},
     "outputs": []
    }
   ],
   "metadata": {}
  }
 ]
}