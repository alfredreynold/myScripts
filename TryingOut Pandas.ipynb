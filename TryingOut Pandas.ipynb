{
 "cells": [
  {
   "cell_type": "code",
   "execution_count": 1,
   "metadata": {
    "collapsed": false
   },
   "outputs": [
    {
     "ename": "ImportError",
     "evalue": "No module named scipy",
     "output_type": "error",
     "traceback": [
      "\u001b[0;31m---------------------------------------------------------------------------\u001b[0m",
      "\u001b[0;31mImportError\u001b[0m                               Traceback (most recent call last)",
      "\u001b[0;32m<ipython-input-1-466a6f2ef6a6>\u001b[0m in \u001b[0;36m<module>\u001b[0;34m()\u001b[0m\n\u001b[1;32m      1\u001b[0m \u001b[0;32mimport\u001b[0m \u001b[0mpandas\u001b[0m \u001b[0;32mas\u001b[0m \u001b[0mpd\u001b[0m\u001b[0;34m\u001b[0m\u001b[0m\n\u001b[0;32m----> 2\u001b[0;31m \u001b[0;32mfrom\u001b[0m \u001b[0msklearn\u001b[0m\u001b[0;34m.\u001b[0m\u001b[0mcluster\u001b[0m \u001b[0;32mimport\u001b[0m \u001b[0mKMeans\u001b[0m\u001b[0;34m\u001b[0m\u001b[0m\n\u001b[0m\u001b[1;32m      3\u001b[0m \u001b[0;32mimport\u001b[0m \u001b[0mmatplotlib\u001b[0m\u001b[0;34m.\u001b[0m\u001b[0mpyplot\u001b[0m \u001b[0;32mas\u001b[0m \u001b[0mplt\u001b[0m\u001b[0;34m\u001b[0m\u001b[0m\n\u001b[1;32m      4\u001b[0m \u001b[0;32mfrom\u001b[0m \u001b[0msklearn\u001b[0m\u001b[0;34m.\u001b[0m\u001b[0mpreprocessing\u001b[0m \u001b[0;32mimport\u001b[0m \u001b[0mscale\u001b[0m\u001b[0;34m\u001b[0m\u001b[0m\n",
      "\u001b[0;32m/Users/alfredreynold/Documents/DEV/snakes/venv/lib/python2.7/site-packages/sklearn/__init__.py\u001b[0m in \u001b[0;36m<module>\u001b[0;34m()\u001b[0m\n\u001b[1;32m     55\u001b[0m \u001b[0;32melse\u001b[0m\u001b[0;34m:\u001b[0m\u001b[0;34m\u001b[0m\u001b[0m\n\u001b[1;32m     56\u001b[0m     \u001b[0;32mfrom\u001b[0m \u001b[0;34m.\u001b[0m \u001b[0;32mimport\u001b[0m \u001b[0m__check_build\u001b[0m\u001b[0;34m\u001b[0m\u001b[0m\n\u001b[0;32m---> 57\u001b[0;31m     \u001b[0;32mfrom\u001b[0m \u001b[0;34m.\u001b[0m\u001b[0mbase\u001b[0m \u001b[0;32mimport\u001b[0m \u001b[0mclone\u001b[0m\u001b[0;34m\u001b[0m\u001b[0m\n\u001b[0m\u001b[1;32m     58\u001b[0m     \u001b[0m__check_build\u001b[0m  \u001b[0;31m# avoid flakes unused variable error\u001b[0m\u001b[0;34m\u001b[0m\u001b[0m\n\u001b[1;32m     59\u001b[0m \u001b[0;34m\u001b[0m\u001b[0m\n",
      "\u001b[0;32m/Users/alfredreynold/Documents/DEV/snakes/venv/lib/python2.7/site-packages/sklearn/base.py\u001b[0m in \u001b[0;36m<module>\u001b[0;34m()\u001b[0m\n\u001b[1;32m      7\u001b[0m \u001b[0;34m\u001b[0m\u001b[0m\n\u001b[1;32m      8\u001b[0m \u001b[0;32mimport\u001b[0m \u001b[0mnumpy\u001b[0m \u001b[0;32mas\u001b[0m \u001b[0mnp\u001b[0m\u001b[0;34m\u001b[0m\u001b[0m\n\u001b[0;32m----> 9\u001b[0;31m \u001b[0;32mfrom\u001b[0m \u001b[0mscipy\u001b[0m \u001b[0;32mimport\u001b[0m \u001b[0msparse\u001b[0m\u001b[0;34m\u001b[0m\u001b[0m\n\u001b[0m\u001b[1;32m     10\u001b[0m \u001b[0;32mfrom\u001b[0m \u001b[0;34m.\u001b[0m\u001b[0mexternals\u001b[0m \u001b[0;32mimport\u001b[0m \u001b[0msix\u001b[0m\u001b[0;34m\u001b[0m\u001b[0m\n\u001b[1;32m     11\u001b[0m \u001b[0;32mfrom\u001b[0m \u001b[0;34m.\u001b[0m\u001b[0mutils\u001b[0m\u001b[0;34m.\u001b[0m\u001b[0mfixes\u001b[0m \u001b[0;32mimport\u001b[0m \u001b[0msignature\u001b[0m\u001b[0;34m\u001b[0m\u001b[0m\n",
      "\u001b[0;31mImportError\u001b[0m: No module named scipy"
     ]
    }
   ],
   "source": [
    "import pandas as pd\n",
    "from sklearn.cluster import KMeans\n",
    "import matplotlib.pyplot as plt\n",
    "from sklearn.preprocessing import scale\n"
   ]
  },
  {
   "cell_type": "code",
   "execution_count": 3,
   "metadata": {
    "collapsed": false
   },
   "outputs": [
    {
     "data": {
      "text/plain": [
       "u'/Users/alfredreynold/Documents/DEV/snakes'"
      ]
     },
     "execution_count": 3,
     "metadata": {},
     "output_type": "execute_result"
    }
   ],
   "source": [
    "pwd\n"
   ]
  },
  {
   "cell_type": "code",
   "execution_count": 11,
   "metadata": {
    "collapsed": false
   },
   "outputs": [],
   "source": [
    "xx = pd.read_csv(\"../pulse/data_for_tables/session_table.tsv\", sep=\"\\t\")"
   ]
  },
  {
   "cell_type": "code",
   "execution_count": 12,
   "metadata": {
    "collapsed": false
   },
   "outputs": [
    {
     "data": {
      "text/html": [
       "<div>\n",
       "<table border=\"1\" class=\"dataframe\">\n",
       "  <thead>\n",
       "    <tr style=\"text-align: right;\">\n",
       "      <th></th>\n",
       "      <th>user_id</th>\n",
       "      <th>start_time</th>\n",
       "      <th>end_time</th>\n",
       "      <th>timezone</th>\n",
       "      <th>start_time_utc</th>\n",
       "      <th>end_time_utc</th>\n",
       "      <th>durationfeeb91d5-ea6f-4140-932e-db89c815f4d5</th>\n",
       "      <th>2016-Jan-27 09:54:16</th>\n",
       "      <th>2016-Jan-27 09:56:26</th>\n",
       "      <th>Asia/Kolkata</th>\n",
       "      <th>2016-Jan-27 04:24:16</th>\n",
       "      <th>2016-Jan-27 04:26:26</th>\n",
       "      <th>130</th>\n",
       "    </tr>\n",
       "  </thead>\n",
       "  <tbody>\n",
       "    <tr>\n",
       "      <th>0</th>\n",
       "      <td>feeb91d5-ea6f-4140-932e-db89c815f4d5</td>\n",
       "      <td>2016-Jan-27 09:54:16</td>\n",
       "      <td>2016-Jan-27 09:56:31</td>\n",
       "      <td>Asia/Kolkata</td>\n",
       "      <td>2016-Jan-27 04:24:16</td>\n",
       "      <td>2016-Jan-27 04:26:31</td>\n",
       "      <td>135</td>\n",
       "      <td>NaN</td>\n",
       "      <td>NaN</td>\n",
       "      <td>NaN</td>\n",
       "      <td>NaN</td>\n",
       "      <td>NaN</td>\n",
       "      <td>NaN</td>\n",
       "    </tr>\n",
       "    <tr>\n",
       "      <th>1</th>\n",
       "      <td>feeb91d5-ea6f-4140-932e-db89c815f4d5</td>\n",
       "      <td>2016-Jan-27 09:54:16</td>\n",
       "      <td>2016-Jan-27 09:59:51</td>\n",
       "      <td>Asia/Kolkata</td>\n",
       "      <td>2016-Jan-27 04:24:16</td>\n",
       "      <td>2016-Jan-27 04:29:51</td>\n",
       "      <td>335</td>\n",
       "      <td>NaN</td>\n",
       "      <td>NaN</td>\n",
       "      <td>NaN</td>\n",
       "      <td>NaN</td>\n",
       "      <td>NaN</td>\n",
       "      <td>NaN</td>\n",
       "    </tr>\n",
       "    <tr>\n",
       "      <th>2</th>\n",
       "      <td>feeb91d5-ea6f-4140-932e-db89c815f4d5</td>\n",
       "      <td>2016-Jan-27 09:54:16</td>\n",
       "      <td>2016-Jan-27 10:08:16</td>\n",
       "      <td>Asia/Kolkata</td>\n",
       "      <td>2016-Jan-27 04:24:16</td>\n",
       "      <td>2016-Jan-27 04:38:16</td>\n",
       "      <td>840</td>\n",
       "      <td>NaN</td>\n",
       "      <td>NaN</td>\n",
       "      <td>NaN</td>\n",
       "      <td>NaN</td>\n",
       "      <td>NaN</td>\n",
       "      <td>NaN</td>\n",
       "    </tr>\n",
       "    <tr>\n",
       "      <th>3</th>\n",
       "      <td>feeb91d5-ea6f-4140-932e-db89c815f4d5</td>\n",
       "      <td>2016-Jan-27 09:54:16</td>\n",
       "      <td>2016-Jan-27 10:14:23</td>\n",
       "      <td>Asia/Kolkata</td>\n",
       "      <td>2016-Jan-27 04:24:16</td>\n",
       "      <td>2016-Jan-27 04:44:23</td>\n",
       "      <td>1207</td>\n",
       "      <td>NaN</td>\n",
       "      <td>NaN</td>\n",
       "      <td>NaN</td>\n",
       "      <td>NaN</td>\n",
       "      <td>NaN</td>\n",
       "      <td>NaN</td>\n",
       "    </tr>\n",
       "    <tr>\n",
       "      <th>4</th>\n",
       "      <td>feeb91d5-ea6f-4140-932e-db89c815f4d5</td>\n",
       "      <td>2016-Jan-27 09:54:16</td>\n",
       "      <td>2016-Jan-27 10:14:23</td>\n",
       "      <td>Asia/Kolkata</td>\n",
       "      <td>2016-Jan-27 04:24:16</td>\n",
       "      <td>2016-Jan-27 04:44:23</td>\n",
       "      <td>1207</td>\n",
       "      <td>NaN</td>\n",
       "      <td>NaN</td>\n",
       "      <td>NaN</td>\n",
       "      <td>NaN</td>\n",
       "      <td>NaN</td>\n",
       "      <td>NaN</td>\n",
       "    </tr>\n",
       "  </tbody>\n",
       "</table>\n",
       "</div>"
      ],
      "text/plain": [
       "                                user_id            start_time  \\\n",
       "0  feeb91d5-ea6f-4140-932e-db89c815f4d5  2016-Jan-27 09:54:16   \n",
       "1  feeb91d5-ea6f-4140-932e-db89c815f4d5  2016-Jan-27 09:54:16   \n",
       "2  feeb91d5-ea6f-4140-932e-db89c815f4d5  2016-Jan-27 09:54:16   \n",
       "3  feeb91d5-ea6f-4140-932e-db89c815f4d5  2016-Jan-27 09:54:16   \n",
       "4  feeb91d5-ea6f-4140-932e-db89c815f4d5  2016-Jan-27 09:54:16   \n",
       "\n",
       "               end_time      timezone        start_time_utc  \\\n",
       "0  2016-Jan-27 09:56:31  Asia/Kolkata  2016-Jan-27 04:24:16   \n",
       "1  2016-Jan-27 09:59:51  Asia/Kolkata  2016-Jan-27 04:24:16   \n",
       "2  2016-Jan-27 10:08:16  Asia/Kolkata  2016-Jan-27 04:24:16   \n",
       "3  2016-Jan-27 10:14:23  Asia/Kolkata  2016-Jan-27 04:24:16   \n",
       "4  2016-Jan-27 10:14:23  Asia/Kolkata  2016-Jan-27 04:24:16   \n",
       "\n",
       "           end_time_utc  durationfeeb91d5-ea6f-4140-932e-db89c815f4d5  \\\n",
       "0  2016-Jan-27 04:26:31                                           135   \n",
       "1  2016-Jan-27 04:29:51                                           335   \n",
       "2  2016-Jan-27 04:38:16                                           840   \n",
       "3  2016-Jan-27 04:44:23                                          1207   \n",
       "4  2016-Jan-27 04:44:23                                          1207   \n",
       "\n",
       "   2016-Jan-27 09:54:16  2016-Jan-27 09:56:26  Asia/Kolkata  \\\n",
       "0                   NaN                   NaN           NaN   \n",
       "1                   NaN                   NaN           NaN   \n",
       "2                   NaN                   NaN           NaN   \n",
       "3                   NaN                   NaN           NaN   \n",
       "4                   NaN                   NaN           NaN   \n",
       "\n",
       "   2016-Jan-27 04:24:16  2016-Jan-27 04:26:26  130  \n",
       "0                   NaN                   NaN  NaN  \n",
       "1                   NaN                   NaN  NaN  \n",
       "2                   NaN                   NaN  NaN  \n",
       "3                   NaN                   NaN  NaN  \n",
       "4                   NaN                   NaN  NaN  "
      ]
     },
     "execution_count": 12,
     "metadata": {},
     "output_type": "execute_result"
    }
   ],
   "source": [
    "xx.head()\n"
   ]
  },
  {
   "cell_type": "code",
   "execution_count": null,
   "metadata": {
    "collapsed": true
   },
   "outputs": [],
   "source": []
  }
 ],
 "metadata": {
  "kernelspec": {
   "display_name": "Python 2",
   "language": "python",
   "name": "python2"
  },
  "language_info": {
   "codemirror_mode": {
    "name": "ipython",
    "version": 2
   },
   "file_extension": ".py",
   "mimetype": "text/x-python",
   "name": "python",
   "nbconvert_exporter": "python",
   "pygments_lexer": "ipython2",
   "version": "2.7.10"
  }
 },
 "nbformat": 4,
 "nbformat_minor": 0
}
