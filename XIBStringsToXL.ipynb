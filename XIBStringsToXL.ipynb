{
 "cells": [
  {
   "cell_type": "code",
   "execution_count": null,
   "metadata": {
    "collapsed": false
   },
   "outputs": [],
   "source": [
    "# -*- coding: utf-8 -*-\n",
    "import os\n",
    "import codecs\n",
    "import xlwt\n",
    "def run(savepath,srclang):\n",
    "\twb = xlwt.Workbook()\n",
    "\tws2 = wb.add_sheet('AppStrings-XIB')\n",
    "\n",
    "\tXCODE_PATH = \"/Users/alfredreynold/Documents/Proj/Lang/Indian/\"+srclang+\".lproj/\"\n",
    "\tstringFileNames = []\n",
    "\tfor files in os.listdir(XCODE_PATH):\n",
    "\t\tpathName = \"/Users/alfredreynold/Desktop/temp/\"+files.split('.')[0]+'.xib'\n",
    "\t\tif files.endswith(\".strings\") and os.path.exists(pathName):\n",
    "\t\t\tprint files\n",
    "\t\t\tstringFileNames.append(files)\n",
    "\n",
    "\tctr = 0\n",
    "\tfor fn in stringFileNames:\n",
    "\t\tfpath = XCODE_PATH+fn\n",
    "\t\tprint fpath\n",
    "\t\tf = codecs.open(fpath, 'r',encoding='utf-16')\n",
    "\t\tctr = ctr+1\n",
    "\t\tws2.write(ctr,0,fn)\n",
    "\t\tctr = ctr+1\n",
    "\t\tlines = f.readlines()\n",
    "\t\tfor l in lines:\n",
    "\t\t\tif l.startswith('/*') is False and len(l.strip())>0:\n",
    "\t\t\t\tlft,rgt = l.strip().split(' = ')\n",
    "\t\t\t\tlft = lft.strip().lower().replace('\"','').replace(';','')\n",
    "\t\t\t\trgt = rgt.strip().lower().replace('\"','').replace(';','')\n",
    "\t\t\t\tprint(lft,\" - \",rgt)\n",
    "\t\t\t\tif True:\n",
    "\t\t\t\t\tstring = l.strip().split(' = ')[-1].replace(\";\",'').replace('\"','').strip()\n",
    "\t\t\t\t\tws2.write(ctr,1,string)\n",
    "\t\t\t\t\tws2.write(ctr,0,lft)\n",
    "\t\t\t\t\tctr = ctr+1\n",
    "\t\tf.close()\n",
    "\twb.save(savepath+'XIB-Strings-In-Yoda.xls')\n",
    "\n",
    "run('/Users/alfredreynold/Documents/DEV/snakes/Translation/Docs','en-in')"
   ]
  },
  {
   "cell_type": "code",
   "execution_count": null,
   "metadata": {
    "collapsed": false
   },
   "outputs": [],
   "source": [
    "# -*- coding: utf-8 -*-\n",
    "import os\n",
    "import codecs\n",
    "import xlwt\n",
    "def run(savepath,srclang):\n",
    "    wb = xlwt.Workbook()\n",
    "    ws2 = wb.add_sheet('LocalizableStrings')\n",
    "\n",
    "    XCODE_PATH = \"/Users/alfredreynold/Documents/Proj/Lang/Indian/en-in.lproj/\"\n",
    "    stringFileNames = [\"YodaDashboard.strings\"]\n",
    "\n",
    "    ctr = 0\n",
    "    for fn in stringFileNames:\n",
    "        fpath = XCODE_PATH+fn\n",
    "        print fpath\n",
    "        f = codecs.open(fpath, 'r',encoding='utf-16')\n",
    "        ctr = ctr+1\n",
    "        ws2.write(ctr,0,fn)\n",
    "        ctr = ctr+1\n",
    "        lines = f.readlines()\n",
    "        for l in lines:\n",
    "            if \"TAMIL TRANSLATIONS\" in l:\n",
    "                break\n",
    "            if l.startswith('/*') is False and len(l.strip())>0:\n",
    "                lft,rgt = l.strip().split(' = ')\n",
    "                lft = lft.strip().lower().replace('\"','').replace(';','')\n",
    "                rgt = rgt.strip().lower().replace('\"','').replace(';','')\n",
    "                print(lft,\" - \",rgt)\n",
    "                if True:\n",
    "                    string = l.strip().split(' = ')[-1].replace(\";\",'').replace('\"','').strip()\n",
    "                    ws2.write(ctr,1,string)\n",
    "                    ws2.write(ctr,0,lft)\n",
    "                    ctr = ctr+1\n",
    "        f.close()\n",
    "    wb.save(savepath+'Localizable_strings.xls')\n",
    "\n",
    "run('/Users/alfredreynold/Documents/DEV/snakes/Translation/Docs/','en-in')"
   ]
  },
  {
   "cell_type": "code",
   "execution_count": null,
   "metadata": {
    "collapsed": false
   },
   "outputs": [],
   "source": [
    "# -*- coding: utf-8 -*-\n",
    "import os\n",
    "import codecs\n",
    "import xlwt\n",
    "def run(savepath,srclang):\n",
    "\twb = xlwt.Workbook()\n",
    "    ws2 = wb.add_sheet('LocalizableStrings')\n",
    "\n",
    "\tXCODE_PATH = \"/Users/ajitnarayanan/ALFRED/DEV/Proj/Lang/Swedish/\"\n",
    "\tstringFileNames = [\"Localizable.strings\"]\n",
    "\n",
    "\tctr = 0\n",
    "\tfor fn in stringFileNames:\n",
    "\t\tfpath = XCODE_PATH+fn\n",
    "\t\tprint fpath\n",
    "\t\tf = codecs.open(fpath, 'r',encoding='utf-16')\n",
    "\t\tctr = ctr+1\n",
    "\t\tws2.write(ctr,0,fn)\n",
    "\t\tctr = ctr+1\n",
    "\t\tlines = f.readlines()\n",
    "\t\tfor l in lines:\n",
    "\t\t\tif l.startswith('/*') is False and len(l.strip())>0:\n",
    "\t\t\t\tlft,rgt = l.strip().split(' = ')\n",
    "\t\t\t\tlft = lft.strip().lower().replace('\"','').replace(';','')\n",
    "\t\t\t\trgt = rgt.strip().lower().replace('\"','').replace(';','')\n",
    "\t\t\t\tif True:\n",
    "\t\t\t\t\tstring = l.strip().split(' = ')[-1].replace(\";\",'').replace('\"','').strip()\n",
    "\t\t\t\t\tif lft == rgt :\n",
    "\t\t\t\t\t\tprint(lft,\" - \",rgt)\n",
    "\t\t\t\t\t\tws2.write(ctr,1,string)\n",
    "\t\t\t\t\t\tws2.write(ctr,0,lft)\n",
    "\t\t\t\t\t\tctr = ctr+1\n",
    "\t\tf.close()\n",
    "\twb.save(savepath+'Localizable_strings.xls')\n",
    "\n",
    "run('/Users/ajitnarayanan/ALFRED/DEV/snakes/Translation/Docs/','sv')"
   ]
  },
  {
   "cell_type": "code",
   "execution_count": null,
   "metadata": {
    "collapsed": true
   },
   "outputs": [],
   "source": []
  }
 ],
 "metadata": {
  "kernelspec": {
   "display_name": "Python 2",
   "language": "python",
   "name": "python2"
  },
  "language_info": {
   "codemirror_mode": {
    "name": "ipython",
    "version": 2
   },
   "file_extension": ".py",
   "mimetype": "text/x-python",
   "name": "python",
   "nbconvert_exporter": "python",
   "pygments_lexer": "ipython2",
   "version": "2.7.10"
  }
 },
 "nbformat": 4,
 "nbformat_minor": 0
}
